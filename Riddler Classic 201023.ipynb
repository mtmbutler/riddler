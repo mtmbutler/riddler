{
 "cells": [
  {
   "cell_type": "markdown",
   "metadata": {},
   "source": [
    "# Can You Feed The Hot Hand?\n",
    "23 October 2020"
   ]
  },
  {
   "cell_type": "code",
   "execution_count": 1,
   "metadata": {},
   "outputs": [],
   "source": [
    "import random\n",
    "\n",
    "import pandas as pd\n",
    "from matplotlib import pyplot as plt\n",
    "from tqdm import tqdm\n",
    "\n",
    "rand = random.random  # Just a convenient shorthand"
   ]
  },
  {
   "cell_type": "markdown",
   "metadata": {},
   "source": [
    "# Problem\n",
    "\n",
    "https://fivethirtyeight.com/features/can-you-feed-the-hot-hand/\n",
    "\n",
    "\n",
    "Now that LeBron James and Anthony Davis have restored the Los Angeles Lakers to glory with their [recent victory](https://fivethirtyeight.com/features/lebron-and-ad-are-the-heroes-but-the-sum-of-this-laker-club-was-more-than-its-superstar-parts/) in the NBA Finals, suppose they decide to play a game of sudden-death, one-on-one basketball. They’ll flip a coin to see which of them has first possession, and whoever makes the first basket wins the game.\n",
    "\n",
    "Both players have a 50 percent chance of making any shot they take. However, Davis is the [superior rebounder](https://www.espn.com/nba/stats/player/_/season/2020/seasontype/2/table/general/sort/avgRebounds/dir/desc) and will always rebound any shot that either of them misses. Every time Davis rebounds the ball, he dribbles back to the three-point line before attempting another shot.\n",
    "\n",
    "Before each of Davis’s shot attempts, James has a probability $p$ of stealing the ball and regaining possession before Davis can get the shot off. What value of $p$ makes this an evenly matched game of one-on-one, so that both players have an equal chance of winning before the coin is flipped?"
   ]
  },
  {
   "cell_type": "markdown",
   "metadata": {},
   "source": [
    "# Solution\n",
    "\n",
    "The correct solution is $p = 1/3$. I've included several methods of arriving at that answer, starting with a consideration of the boundary conditions, and including linear extrapolation, probability tree analysis, a formal algebraic approach, and empirical testing.\n",
    "\n",
    "## Boundaries\n",
    "\n",
    "Let's start by considering the extremes. If $p = 1$, James successfully steals the ball away from Davis before he can shoot, every time. Since Davis can never shoot, James wins 100% of the time.\n",
    "\n",
    "On the other hand, if $p = 0$, then Davis wins as soon as he gets the ball, because James has no way to ever get it back. James's only chance to win is to win the coin flip (50% chance) and sink his first and only shot (another 50% chance). In this scenario, James will win 50% * 50% = 25% of the time."
   ]
  },
  {
   "cell_type": "markdown",
   "metadata": {},
   "source": [
    "## Linear Extrapolation\n",
    "\n",
    "Let's assume that James's chance of winning is a linear function of $p$. Using the two boundary points we reasoned out above, we can draw the line, and find where it intersects with 50% (the target chance of winning). If $P_j$ is the probability of a James win, this is the equation of the line in question:\n",
    "$$\n",
    "P_j = \\frac{3}{4}p + \\frac{1}{4} = \\frac{1 + 3p}{4}\n",
    "$$"
   ]
  },
  {
   "cell_type": "code",
   "execution_count": 2,
   "metadata": {},
   "outputs": [
    {
     "data": {
      "image/png": "[encoded data removed]",
      "text/plain": [
       "<Figure size 576x288 with 1 Axes>"
      ]
     },
     "metadata": {
      "needs_background": "light"
     },
     "output_type": "display_data"
    }
   ],
   "source": [
    "fig, ax = plt.subplots(figsize=(8, 4))\n",
    "\n",
    "# Data\n",
    "x = [0, 1]\n",
    "y = [0.25, 1]\n",
    "ax.plot(x, y, marker=\"o\", linestyle=\"--\", label=\"Probability of a James Victory\")\n",
    "\n",
    "# Horizontal/vertical lines to illustrate intersection point\n",
    "ax.plot([0, 1], [0.5, 0.5], linestyle=\"--\", label=\"Fair Game\")\n",
    "ax.plot([1 / 3, 1 / 3], [0, 1], linestyle=\"--\", label=\"Solution for $p$ ($1/3$)\")\n",
    "\n",
    "# Labels, formatting, etc.\n",
    "overshoot = 0.05\n",
    "ax.set_xlim(0 - overshoot, 1 + overshoot)\n",
    "ax.set_ylim(0 - overshoot, 1 + overshoot)\n",
    "ax.set_xlabel(\"p (Steal Chance)\")\n",
    "ax.set_title(\"Probability of a James Victory by Steal Chance\")\n",
    "ax.legend()\n",
    "ax.grid()\n",
    "\n",
    "plt.show()"
   ]
  },
  {
   "cell_type": "markdown",
   "metadata": {},
   "source": [
    "If our assumption is correct, then the value for $p$ that yields a perfectly fair game is $1/3$."
   ]
  },
  {
   "cell_type": "markdown",
   "metadata": {},
   "source": [
    "## Probability Tree Analysis\n",
    "\n",
    "Let's test our solution by setting $p = 1/3$ and trying to resolve the probability tree of the resulting game. We start with the coinflip.\n",
    "```\n",
    "|- 1/2 James possession\n",
    "|- 1/2 Davis possession\n",
    "```\n",
    "\n",
    "If James makes his shot, he wins. Otherwise, Davis gets the rebound.\n",
    "```\n",
    "|- 1/2 James possession\n",
    "   |- 1/2 James victory\n",
    "   |- 1/2 Davis possession\n",
    "|- 1/2 Davis possession\n",
    "```\n",
    "\n",
    "Davis possessions are a bit more complex. There's a $1/3$ chance that James steals before the shot, leading back to a James possession. In half of the remaining scenarios, Davis makes his shot and wins. In the other half, he misses but gets the rebound, leading back to another Davis possession.\n",
    "```\n",
    "|- 1/2 James possession\n",
    "   |- 1/2 James victory\n",
    "   |- 1/2 Davis possession\n",
    "|- 1/2 Davis possession\n",
    "   |- 1/3 James possession\n",
    "   |- 1/3 Davis victory\n",
    "   |- 1/3 Davis possession\n",
    "```\n",
    "\n",
    "We already know the breakdown for a James possession, so let's plug that into the Davis possession branch. We can resolve the top-level instance as well, to reduce the number of states we need to consider.\n",
    "```\n",
    "|- 1/4 James victory\n",
    "|- 3/4 Davis possession\n",
    "   |- 1/6 James victory\n",
    "   |- 1/3 Davis victory\n",
    "   |- 1/2 Davis possession\n",
    "```\n",
    "\n",
    "Now all we need to do is resolve the recursion in the Davis possession branch. The solution becomes apparent after another layer:\n",
    "```\n",
    "|- 1/4 James victory\n",
    "|- 3/4 Davis possession\n",
    "   |- 1/6 James victory\n",
    "   |- 1/3 Davis victory\n",
    "   |- 1/2 Davis possession\n",
    "       |- 1/6 James victory\n",
    "       |- 1/3 Davis victory\n",
    "       |- 1/2 Davis possession\n",
    "```\n",
    "\n",
    "Resolving:\n",
    "```\n",
    "|- 1/4 James victory\n",
    "|- 3/4 Davis possession\n",
    "   |- 1/4 James victory\n",
    "   |- 1/2 Davis victory\n",
    "   |- 1/4 Davis possession\n",
    "```\n",
    "\n",
    "Let's repeat the above two steps one more time for clarity:\n",
    "```\n",
    "|- 1/4 James victory\n",
    "|- 3/4 Davis possession\n",
    "   |- 7/24 James victory\n",
    "   |- 7/12 Davis victory\n",
    "   |- 3/24 Davis possession\n",
    "```\n",
    "\n",
    "If we take this to infinity, the recursive Davis possession case will go to zero, and the James victory branch will still be half as likely as the Davis victory branch. We end up with this:\n",
    "```\n",
    "|- 1/4 James victory\n",
    "|- 3/4 Davis possession\n",
    "   |- 1/3 James victory\n",
    "   |- 2/3 Davis victory\n",
    "```\n",
    "\n",
    "Which resolves to a perfectly fair game:\n",
    "```\n",
    "|- 1/2 James victory\n",
    "|- 1/2 Davis possession\n",
    "```"
   ]
  },
  {
   "cell_type": "markdown",
   "metadata": {},
   "source": [
    "## Algebraic Analysis\n",
    "\n",
    "The probability tree analysis was more intuitive than rigorous. Let's now do a rigorous, algebraic approach to prove the solution."
   ]
  },
  {
   "cell_type": "markdown",
   "metadata": {},
   "source": [
    "### The Setup\n",
    "\n",
    "Consider a two-dimensional vector space $\\mathbb{V}$, spanned by the linearly independent unit vectors $\\hat{d}$, representing a Davis victory, and $\\hat{j}$, representing a James victory. A valid probability vector $\\vec{P}$ representing our one-on-one scenario can be expressed as a linear combination in $\\mathbb{V}$, where the coefficients represent probabilities:\n",
    "$$\n",
    "\\vec{P} = P_d\\hat{d} + P_j\\hat{j} \\\\\n",
    "P_d + P_j = 1\n",
    "$$\n",
    "\n",
    "For a perfectly fair game, $P_d = P_j = \\frac{1}{2}$."
   ]
  },
  {
   "cell_type": "markdown",
   "metadata": {},
   "source": [
    "### Defining Possessions in $\\mathbb{V}$\n",
    "\n",
    "Now, consider also the vectors $\\vec{D}$ and $\\vec{J}$, representing Davis possessions and James possessions, respectively. Borrowing from the tree analysis, we can infer expressions for these vectors from the description of the game:\n",
    "$$\n",
    "\\vec{J} = \\frac{1}{2}\\hat{j} + \\frac{1}{2}\\vec{D} \\\\\n",
    "\\vec{D} = p\\vec{J} + \\frac{1-p}{2}\\hat{d} + \\frac{1-p}{2}\\vec{D}\n",
    "$$\n",
    "\n",
    "Now, instead of dealing with recursion, we can simply solve this system algebraically. Plugging the top equation into the bottom one gives us this line:\n",
    "$$\n",
    "\\vec{D} = p\\left(\\frac{1}{2}\\hat{j} + \\frac{1}{2}\\vec{D}\\right) + \\frac{1-p}{2}\\hat{d} + \\frac{1-p}{2}\\vec{D} \\\\\n",
    "\\vec{D} = \\frac{p}{2}\\hat{j} + \\frac{1-p}{2}\\hat{d} + \\frac{1}{2}\\vec{D} \\\\\n",
    "\\vec{D} = p\\hat{j} + (1-p)\\hat{d} \\\\\n",
    "$$\n",
    "\n",
    "Plugging in to solve for $\\vec{J}$:\n",
    "$$\n",
    "\\vec{J} = \\frac{1}{2}\\hat{j} + \\frac{1}{2}\\left(p\\hat{j} + (1-p)\\hat{d}\\right) \\\\\n",
    "\\vec{J} = \\frac{1+p}{2}\\hat{j} + \\frac{1-p}{2}\\hat{d}\n",
    "$$"
   ]
  },
  {
   "cell_type": "markdown",
   "metadata": {},
   "source": [
    "### Sense Check\n",
    "\n",
    "Let's pause for a quick sense check. Remember the boundaries -- if we set $p = 0$, a Davis possession should always lead to a Davis win, and a James possession should become a 50/50 game. Our equations validate that:\n",
    "$$\n",
    "\\vec{D} = 0\\hat{j} + (1-0)\\hat{d} = \\hat{d} \\\\\n",
    "\\vec{J} = \\frac{1+0}{2}\\hat{j} + \\frac{1-0}{2}\\hat{d} = \\frac{1}{2}\\hat{j} + \\frac{1}{2}\\hat{d}\n",
    "$$\n",
    "\n",
    "If we set $p = 1$, James should win every time. Our equations reflect that as well:\n",
    "$$\n",
    "\\vec{D} = 1\\hat{j} + (1-1)\\hat{d} = \\hat{j} \\\\\n",
    "\\vec{J} = \\frac{1+1}{2}\\hat{j} + \\frac{1-1}{2}\\hat{d} = \\hat{j}\n",
    "$$\n",
    "\n",
    "Ok, since we've validated this, let's move onto the solution."
   ]
  },
  {
   "cell_type": "markdown",
   "metadata": {},
   "source": [
    "### Solution\n",
    "\n",
    "The final step is to express our game in terms of its initial conditions -- the coin flip.\n",
    "$$\n",
    "\\vec{P} = \\frac{1}{2}\\vec{D} + \\frac{1}{2}\\vec{J} \\\\\n",
    "$$\n",
    "\n",
    "Now we just plug in our equations and solve.\n",
    "$$\n",
    "\\vec{P} = \\frac{1}{2}\\left(p\\hat{j} + (1-p)\\hat{d}\\right) + \\frac{1}{2}\\left(\\frac{1+p}{2}\\hat{j} + \\frac{1-p}{2}\\hat{d}\\right) \\\\\n",
    "\\vec{P} = \\frac{1 + 3p}{4}\\hat{j} + \\frac{3 - 3p}{4}\\hat{d}\n",
    "$$\n",
    "\n",
    "Note that the coefficient for a James victory is here expressed as $P_j = \\frac{1 + 3p}{4}$, which is precisely the relationship we guessed at in the linear extrapolation section.\n",
    "\n",
    "For a fair game, we need both coefficients to be equal to $1/2$. Just as before, we can satisfy this requirement with $p = 1/3$."
   ]
  },
  {
   "cell_type": "markdown",
   "metadata": {},
   "source": [
    "## Empirical Analysis\n",
    "\n",
    "For bonus points, let's do some simulations and see if the results validate our solution. I've set up a class that takes $p$ as an input and simulates a single game. Below you can see the result of a single game. Run the code with different parameters to test its validity."
   ]
  },
  {
   "cell_type": "code",
   "execution_count": 3,
   "metadata": {},
   "outputs": [
    {
     "data": {
      "text/html": [
       "<div>\n",
       "<style scoped>\n",
       "    .dataframe tbody tr th:only-of-type {\n",
       "        vertical-align: middle;\n",
       "    }\n",
       "\n",
       "    .dataframe tbody tr th {\n",
       "        vertical-align: top;\n",
       "    }\n",
       "\n",
       "    .dataframe thead th {\n",
       "        text-align: right;\n",
       "    }\n",
       "</style>\n",
       "<table border=\"1\" class=\"dataframe\">\n",
       "  <thead>\n",
       "    <tr style=\"text-align: right;\">\n",
       "      <th></th>\n",
       "      <th>turn</th>\n",
       "      <th>possession</th>\n",
       "      <th>steal_prob</th>\n",
       "      <th>steal_rng</th>\n",
       "      <th>steal</th>\n",
       "      <th>shot_prob</th>\n",
       "      <th>shot_rng</th>\n",
       "      <th>made_it</th>\n",
       "    </tr>\n",
       "  </thead>\n",
       "  <tbody>\n",
       "    <tr>\n",
       "      <th>0</th>\n",
       "      <td>1</td>\n",
       "      <td>LeBron James</td>\n",
       "      <td>0.25</td>\n",
       "      <td>None</td>\n",
       "      <td>False</td>\n",
       "      <td>0.5</td>\n",
       "      <td>0.45097</td>\n",
       "      <td>True</td>\n",
       "    </tr>\n",
       "  </tbody>\n",
       "</table>\n",
       "</div>"
      ],
      "text/plain": [
       "   turn    possession  steal_prob steal_rng  steal  shot_prob  shot_rng  \\\n",
       "0     1  LeBron James        0.25      None  False        0.5   0.45097   \n",
       "\n",
       "   made_it  \n",
       "0     True  "
      ]
     },
     "execution_count": 3,
     "metadata": {},
     "output_type": "execute_result"
    }
   ],
   "source": [
    "LB = \"LeBron James\"\n",
    "AD = \"Anthony Davis\"\n",
    "PROB_START_AD = 0.5\n",
    "SHOT_PCT = {\n",
    "    LB: 0.5,\n",
    "    AD: 0.5,\n",
    "}\n",
    "\n",
    "class Game:\n",
    "    \"\"\"A sudden-death, one-on-one basketball match between LeBron and AD.\"\"\"\n",
    "    def __init__(self, p: float):\n",
    "        \"\"\"\n",
    "        Args:\n",
    "            p: The probability that LeBron will steal the ball and regain\n",
    "                possession before AD can get the shot off.\n",
    "        \"\"\"\n",
    "        self.p = p\n",
    "        self.winner = None\n",
    "        \n",
    "        # Determine first possession\n",
    "        self.first_possession = LB\n",
    "        if rand() < PROB_START_AD:\n",
    "            self.first_possession = AD\n",
    "        \n",
    "        # Play\n",
    "        self.possession = self.first_possession\n",
    "        self.record = []\n",
    "        self.turn = 1\n",
    "        while self.winner is None:\n",
    "            result = self.play()\n",
    "            self.record.append(dict(turn=self.turn, **result))\n",
    "            self.turn += 1\n",
    "    \n",
    "    def play(self):\n",
    "        possession = self.possession\n",
    "        steal_rng = None\n",
    "        steal = False\n",
    "        shot_rng = None\n",
    "        made_it = False\n",
    "\n",
    "        if possession == AD:\n",
    "            # If AD has the ball, check whether LB steals\n",
    "            steal_rng = rand()\n",
    "            if steal_rng < self.p:\n",
    "                steal = True\n",
    "                self.possession = LB\n",
    "\n",
    "        if not steal:\n",
    "            # Take the shot\n",
    "            shot_rng = rand()\n",
    "            if shot_rng < SHOT_PCT[possession]:\n",
    "                made_it = True\n",
    "                self.winner = possession\n",
    "            else:\n",
    "                self.possession = AD  # AD rebounds\n",
    "        \n",
    "        return dict(\n",
    "            possession=possession,\n",
    "            steal_prob=self.p,\n",
    "            steal_rng=steal_rng,\n",
    "            steal=steal,\n",
    "            shot_prob=SHOT_PCT[possession],\n",
    "            shot_rng=shot_rng,\n",
    "            made_it=made_it,\n",
    "        )\n",
    "\n",
    "g = Game(p=0.25)\n",
    "pd.DataFrame(g.record)"
   ]
  },
  {
   "cell_type": "markdown",
   "metadata": {},
   "source": [
    "Now, let's run trials. For each of 200 $p$ values evenly spaced from 0 to 1, we'll run 100 trials of 100 games each, and take the mean number of games won by James. These parameters are all adjustable."
   ]
  },
  {
   "cell_type": "code",
   "execution_count": 4,
   "metadata": {},
   "outputs": [
    {
     "name": "stderr",
     "output_type": "stream",
     "text": [
      "100%|██████████| 200/200 [00:14<00:00, 13.79it/s]\n"
     ]
    }
   ],
   "source": [
    "resolution = 200  # number of p values to take between 0 and 1\n",
    "num_trials = 100\n",
    "games_per_trial = 100\n",
    "\n",
    "x = []  # p\n",
    "y = []  # mean LB win percentage\n",
    "\n",
    "for i in tqdm(range(resolution)):\n",
    "    p = i / resolution\n",
    "    win_pct_sum = 0\n",
    "    for _ in range(num_trials):\n",
    "        lb_wins = 0\n",
    "        for _ in range(games_per_trial):\n",
    "            g = Game(p)\n",
    "            if g.winner == LB:\n",
    "                lb_wins += 1\n",
    "        lb_win_pct = lb_wins / games_per_trial\n",
    "        win_pct_sum += lb_win_pct\n",
    "    x.append(p)\n",
    "    y.append(win_pct_sum / num_trials)"
   ]
  },
  {
   "cell_type": "code",
   "execution_count": 5,
   "metadata": {},
   "outputs": [
    {
     "data": {
      "image/png": "[encoded data removed]",
      "text/plain": [
       "<Figure size 576x288 with 1 Axes>"
      ]
     },
     "metadata": {
      "needs_background": "light"
     },
     "output_type": "display_data"
    }
   ],
   "source": [
    "fig, ax = plt.subplots(figsize=(8, 4))\n",
    "\n",
    "# Data\n",
    "ax.scatter(x, y, s=8, label=\"Simulation Results\")\n",
    "\n",
    "# Horizontal/vertical lines to illustrate intersection point\n",
    "ax.plot([0, 1], [0.5, 0.5], linestyle=\"--\", label=\"Fair Game\")\n",
    "ax.plot([1 / 3, 1 / 3], [0, 1], linestyle=\"--\", label=\"Solution for $p$ ($1/3$)\")\n",
    "\n",
    "# Labels, formatting, etc.\n",
    "overshoot = 0.05\n",
    "ax.set_xlim(0 - overshoot, 1 + overshoot)\n",
    "ax.set_ylim(0 - overshoot, 1 + overshoot)\n",
    "ax.set_xlabel(\"p (Steal Chance)\")\n",
    "ax.set_title(\"Probability of a James Victory by Steal Chance\")\n",
    "ax.legend()\n",
    "ax.grid()\n",
    "\n",
    "plt.show()"
   ]
  },
  {
   "cell_type": "markdown",
   "metadata": {},
   "source": [
    "Noise aside, our simulation is telling us the same thing as all the analysis to date, so we can be fairly certain that the correct solution is $p = 1/3$."
   ]
  }
 ],
 "metadata": {
  "kernelspec": {
   "display_name": "Python 3",
   "language": "python",
   "name": "python3"
  },
  "language_info": {
   "codemirror_mode": {
    "name": "ipython",
    "version": 3
   },
   "file_extension": ".py",
   "mimetype": "text/x-python",
   "name": "python",
   "nbconvert_exporter": "python",
   "pygments_lexer": "ipython3",
   "version": "3.7.9"
  }
 },
 "nbformat": 4,
 "nbformat_minor": 4
}
